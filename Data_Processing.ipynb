{
  "cells": [
    {
      "cell_type": "markdown",
      "id": "02d030f9",
      "metadata": {
        "id": "02d030f9"
      },
      "source": [
        "### Cab Price Prediction - Data Processing \n",
        "\n",
        "In this notebook, we are understanding our data-set by applying various funcions. We are performing data manipulation and data cleaning using Pandas library. \n",
        "\n",
        "1. Reading the dataframe\n",
        "2. Finding the shape of dataframe \n",
        "3. Cheking the datatype of each attributes\n",
        "4. Changing the datatype of needed attribute\n",
        "5. Cheking the null values \n",
        "6. Removing null values \n",
        "7. Finding the distance "
      ]
    },
    {
      "cell_type": "code",
      "execution_count": null,
      "id": "e9f656d4",
      "metadata": {
        "id": "e9f656d4"
      },
      "outputs": [],
      "source": [
        "#Importing Libraries\n",
        "import pandas as pd\n",
        "\n",
        "#Reading the data-set\n",
        "data = pd.read_csv('C:/Users/palak/Downloads/train.csv')"
      ]
    },
    {
      "cell_type": "code",
      "execution_count": null,
      "id": "0c8aeac1",
      "metadata": {
        "id": "0c8aeac1"
      },
      "outputs": [],
      "source": [
        "import sklearn as sk\n",
        "from sklearn.model_selection import train_test_split\n",
        "\n",
        "X_keep, X_drop, y_keep, y_drop = train_test_split(data.iloc[:,2:9], data.iloc[:,1], test_size=0.999, random_state=42)"
      ]
    },
    {
      "cell_type": "code",
      "execution_count": null,
      "id": "21d9e4d5",
      "metadata": {
        "id": "21d9e4d5"
      },
      "outputs": [],
      "source": [
        "#save off dataset\n",
        "df = X_keep.join(y_keep)\n",
        "df.to_csv('C:/Users/palak/Downloads/taxi_data.csv')"
      ]
    },
    {
      "cell_type": "code",
      "execution_count": null,
      "id": "adf2f418",
      "metadata": {
        "id": "adf2f418"
      },
      "outputs": [],
      "source": [
        "#import dataset\n",
        "df = pd.read_csv('C:/Users/palak/Downloads/taxi_data.csv')"
      ]
    },
    {
      "cell_type": "code",
      "execution_count": null,
      "id": "bfefc805",
      "metadata": {
        "id": "bfefc805",
        "outputId": "af5c1038-e80b-462e-8225-bb43d10f1092"
      },
      "outputs": [
        {
          "data": {
            "text/plain": [
              "(55423, 8)"
            ]
          },
          "execution_count": 80,
          "metadata": {},
          "output_type": "execute_result"
        }
      ],
      "source": [
        "#Shape of data\n",
        "df.shape"
      ]
    },
    {
      "cell_type": "code",
      "execution_count": null,
      "id": "f99290bb",
      "metadata": {
        "id": "f99290bb",
        "outputId": "ad7484a8-bf1b-4574-8830-579eb02706c6"
      },
      "outputs": [
        {
          "name": "stdout",
          "output_type": "stream",
          "text": [
            "<class 'pandas.core.frame.DataFrame'>\n",
            "RangeIndex: 55423 entries, 0 to 55422\n",
            "Data columns (total 8 columns):\n",
            " #   Column             Non-Null Count  Dtype  \n",
            "---  ------             --------------  -----  \n",
            " 0   Unnamed: 0         55423 non-null  int64  \n",
            " 1   pickup_datetime    55423 non-null  object \n",
            " 2   pickup_longitude   55423 non-null  float64\n",
            " 3   pickup_latitude    55423 non-null  float64\n",
            " 4   dropoff_longitude  55420 non-null  float64\n",
            " 5   dropoff_latitude   55420 non-null  float64\n",
            " 6   passenger_count    55423 non-null  int64  \n",
            " 7   fare_amount        55423 non-null  float64\n",
            "dtypes: float64(5), int64(2), object(1)\n",
            "memory usage: 3.4+ MB\n"
          ]
        }
      ],
      "source": [
        "#Dataframe basic information\n",
        "\n",
        "df.info()"
      ]
    },
    {
      "cell_type": "code",
      "execution_count": null,
      "id": "1d58cecd",
      "metadata": {
        "id": "1d58cecd"
      },
      "outputs": [],
      "source": [
        "#Changing the datatype\n",
        "\n",
        "df['pickup_datetime'] = pd.to_datetime(df['pickup_datetime'],format= '%Y-%m-%d %H:%M:%S UTC')"
      ]
    },
    {
      "cell_type": "code",
      "execution_count": null,
      "id": "5f59bf99",
      "metadata": {
        "id": "5f59bf99",
        "outputId": "4cd8fdc2-a67d-41d1-c95c-00014e39bb65"
      },
      "outputs": [
        {
          "data": {
            "text/plain": [
              "Unnamed: 0           0\n",
              "pickup_datetime      0\n",
              "pickup_longitude     0\n",
              "pickup_latitude      0\n",
              "dropoff_longitude    3\n",
              "dropoff_latitude     3\n",
              "passenger_count      0\n",
              "fare_amount          0\n",
              "dtype: int64"
            ]
          },
          "execution_count": 83,
          "metadata": {},
          "output_type": "execute_result"
        }
      ],
      "source": [
        "#Checking Null Values\n",
        "\n",
        "df_num_missing = df.isnull().sum()\n",
        "df_num_missing"
      ]
    },
    {
      "cell_type": "code",
      "execution_count": null,
      "id": "642e546b",
      "metadata": {
        "id": "642e546b",
        "outputId": "2a675652-47ad-47e8-9ba5-caff5a8e6f4e"
      },
      "outputs": [
        {
          "data": {
            "text/plain": [
              "55423"
            ]
          },
          "execution_count": 84,
          "metadata": {},
          "output_type": "execute_result"
        }
      ],
      "source": [
        "#Finding the length of data-frame\n",
        "\n",
        "len(df)"
      ]
    },
    {
      "cell_type": "code",
      "execution_count": null,
      "id": "a171936b",
      "metadata": {
        "id": "a171936b",
        "outputId": "8e418d8c-b0bb-4c04-929d-701e91d87f2a"
      },
      "outputs": [
        {
          "data": {
            "text/plain": [
              "Unnamed: 0           0.000000\n",
              "pickup_datetime      0.000000\n",
              "pickup_longitude     0.000000\n",
              "pickup_latitude      0.000000\n",
              "dropoff_longitude    0.005413\n",
              "dropoff_latitude     0.005413\n",
              "passenger_count      0.000000\n",
              "fare_amount          0.000000\n",
              "dtype: float64"
            ]
          },
          "execution_count": 85,
          "metadata": {},
          "output_type": "execute_result"
        }
      ],
      "source": [
        "#Percentage of Missing Null Values\n",
        "\n",
        "(df_num_missing/len(df))*100"
      ]
    },
    {
      "cell_type": "markdown",
      "id": "a3a625f1",
      "metadata": {
        "id": "a3a625f1"
      },
      "source": [
        "### Explanation about dropping the null values\n",
        "\n",
        "In this data frame the percentage of null values are less than 0.01%, which is very less in number. It will not affect the training of data model and predicting the price, if we will remove these null values. \n"
      ]
    },
    {
      "cell_type": "code",
      "execution_count": null,
      "id": "2b11f97d",
      "metadata": {
        "id": "2b11f97d"
      },
      "outputs": [],
      "source": [
        "#Dropping the null values\n",
        "\n",
        "df = df.dropna()"
      ]
    },
    {
      "cell_type": "code",
      "execution_count": null,
      "id": "de587a11",
      "metadata": {
        "id": "de587a11",
        "outputId": "b8cbe833-a853-4fef-f329-321038883849"
      },
      "outputs": [
        {
          "data": {
            "text/html": [
              "<div>\n",
              "<style scoped>\n",
              "    .dataframe tbody tr th:only-of-type {\n",
              "        vertical-align: middle;\n",
              "    }\n",
              "\n",
              "    .dataframe tbody tr th {\n",
              "        vertical-align: top;\n",
              "    }\n",
              "\n",
              "    .dataframe thead th {\n",
              "        text-align: right;\n",
              "    }\n",
              "</style>\n",
              "<table border=\"1\" class=\"dataframe\">\n",
              "  <thead>\n",
              "    <tr style=\"text-align: right;\">\n",
              "      <th></th>\n",
              "      <th>Unnamed: 0</th>\n",
              "      <th>pickup_longitude</th>\n",
              "      <th>pickup_latitude</th>\n",
              "      <th>dropoff_longitude</th>\n",
              "      <th>dropoff_latitude</th>\n",
              "      <th>passenger_count</th>\n",
              "      <th>fare_amount</th>\n",
              "    </tr>\n",
              "  </thead>\n",
              "  <tbody>\n",
              "    <tr>\n",
              "      <th>count</th>\n",
              "      <td>5.542000e+04</td>\n",
              "      <td>55420.000000</td>\n",
              "      <td>55420.000000</td>\n",
              "      <td>55420.000000</td>\n",
              "      <td>55420.000000</td>\n",
              "      <td>55420.000000</td>\n",
              "      <td>55420.00000</td>\n",
              "    </tr>\n",
              "    <tr>\n",
              "      <th>mean</th>\n",
              "      <td>2.778471e+07</td>\n",
              "      <td>-72.475101</td>\n",
              "      <td>39.952327</td>\n",
              "      <td>-72.470379</td>\n",
              "      <td>39.856761</td>\n",
              "      <td>1.674720</td>\n",
              "      <td>11.31502</td>\n",
              "    </tr>\n",
              "    <tr>\n",
              "      <th>std</th>\n",
              "      <td>1.600231e+07</td>\n",
              "      <td>10.595210</td>\n",
              "      <td>13.867061</td>\n",
              "      <td>10.991747</td>\n",
              "      <td>9.800319</td>\n",
              "      <td>1.305396</td>\n",
              "      <td>9.85050</td>\n",
              "    </tr>\n",
              "    <tr>\n",
              "      <th>min</th>\n",
              "      <td>6.170000e+02</td>\n",
              "      <td>-207.952550</td>\n",
              "      <td>-74.013105</td>\n",
              "      <td>-736.383332</td>\n",
              "      <td>-1723.679763</td>\n",
              "      <td>0.000000</td>\n",
              "      <td>-6.90000</td>\n",
              "    </tr>\n",
              "    <tr>\n",
              "      <th>25%</th>\n",
              "      <td>1.391725e+07</td>\n",
              "      <td>-73.992169</td>\n",
              "      <td>40.734681</td>\n",
              "      <td>-73.991426</td>\n",
              "      <td>40.733834</td>\n",
              "      <td>1.000000</td>\n",
              "      <td>6.00000</td>\n",
              "    </tr>\n",
              "    <tr>\n",
              "      <th>50%</th>\n",
              "      <td>2.781014e+07</td>\n",
              "      <td>-73.981821</td>\n",
              "      <td>40.752341</td>\n",
              "      <td>-73.980335</td>\n",
              "      <td>40.752975</td>\n",
              "      <td>1.000000</td>\n",
              "      <td>8.50000</td>\n",
              "    </tr>\n",
              "    <tr>\n",
              "      <th>75%</th>\n",
              "      <td>4.164539e+07</td>\n",
              "      <td>-73.967396</td>\n",
              "      <td>40.766837</td>\n",
              "      <td>-73.963831</td>\n",
              "      <td>40.768008</td>\n",
              "      <td>2.000000</td>\n",
              "      <td>12.50000</td>\n",
              "    </tr>\n",
              "    <tr>\n",
              "      <th>max</th>\n",
              "      <td>5.542367e+07</td>\n",
              "      <td>40.792912</td>\n",
              "      <td>2925.007435</td>\n",
              "      <td>40.799192</td>\n",
              "      <td>50.613070</td>\n",
              "      <td>6.000000</td>\n",
              "      <td>500.00000</td>\n",
              "    </tr>\n",
              "  </tbody>\n",
              "</table>\n",
              "</div>"
            ],
            "text/plain": [
              "         Unnamed: 0  pickup_longitude  pickup_latitude  dropoff_longitude  \\\n",
              "count  5.542000e+04      55420.000000     55420.000000       55420.000000   \n",
              "mean   2.778471e+07        -72.475101        39.952327         -72.470379   \n",
              "std    1.600231e+07         10.595210        13.867061          10.991747   \n",
              "min    6.170000e+02       -207.952550       -74.013105        -736.383332   \n",
              "25%    1.391725e+07        -73.992169        40.734681         -73.991426   \n",
              "50%    2.781014e+07        -73.981821        40.752341         -73.980335   \n",
              "75%    4.164539e+07        -73.967396        40.766837         -73.963831   \n",
              "max    5.542367e+07         40.792912      2925.007435          40.799192   \n",
              "\n",
              "       dropoff_latitude  passenger_count  fare_amount  \n",
              "count      55420.000000     55420.000000  55420.00000  \n",
              "mean          39.856761         1.674720     11.31502  \n",
              "std            9.800319         1.305396      9.85050  \n",
              "min        -1723.679763         0.000000     -6.90000  \n",
              "25%           40.733834         1.000000      6.00000  \n",
              "50%           40.752975         1.000000      8.50000  \n",
              "75%           40.768008         2.000000     12.50000  \n",
              "max           50.613070         6.000000    500.00000  "
            ]
          },
          "execution_count": 87,
          "metadata": {},
          "output_type": "execute_result"
        }
      ],
      "source": [
        "#Describing the data\n",
        "\n",
        "df.describe()"
      ]
    },
    {
      "cell_type": "markdown",
      "id": "109cb181",
      "metadata": {
        "id": "109cb181"
      },
      "source": [
        "#### Observation:  The description of data shows that the minimum fare amount value is in negative. As this does not seem to be possible in real world. We further check the number of negative values present in data-set. "
      ]
    },
    {
      "cell_type": "code",
      "execution_count": null,
      "id": "1c28b84a",
      "metadata": {
        "id": "1c28b84a",
        "outputId": "63f763de-f882-41e1-95fd-561bcce9ff22"
      },
      "outputs": [
        {
          "data": {
            "text/plain": [
              "5"
            ]
          },
          "execution_count": 88,
          "metadata": {},
          "output_type": "execute_result"
        }
      ],
      "source": [
        "#Finding the number of negative values\n",
        "\n",
        "df_negative = df[df['fare_amount'] < 0]\n",
        "\n",
        "len(df_negative)"
      ]
    },
    {
      "cell_type": "code",
      "execution_count": null,
      "id": "efc30fc6",
      "metadata": {
        "id": "efc30fc6"
      },
      "outputs": [],
      "source": [
        "#Removing the negative fare amount values\n",
        "\n",
        "df = df[df['fare_amount'] >= 0]"
      ]
    },
    {
      "cell_type": "code",
      "execution_count": null,
      "id": "65438821",
      "metadata": {
        "id": "65438821",
        "outputId": "1f5d35bb-ea36-4272-d2cc-2cd206275c9e",
        "scrolled": true
      },
      "outputs": [
        {
          "data": {
            "text/html": [
              "<div>\n",
              "<style scoped>\n",
              "    .dataframe tbody tr th:only-of-type {\n",
              "        vertical-align: middle;\n",
              "    }\n",
              "\n",
              "    .dataframe tbody tr th {\n",
              "        vertical-align: top;\n",
              "    }\n",
              "\n",
              "    .dataframe thead th {\n",
              "        text-align: right;\n",
              "    }\n",
              "</style>\n",
              "<table border=\"1\" class=\"dataframe\">\n",
              "  <thead>\n",
              "    <tr style=\"text-align: right;\">\n",
              "      <th></th>\n",
              "      <th>Unnamed: 0</th>\n",
              "      <th>pickup_longitude</th>\n",
              "      <th>pickup_latitude</th>\n",
              "      <th>dropoff_longitude</th>\n",
              "      <th>dropoff_latitude</th>\n",
              "      <th>passenger_count</th>\n",
              "      <th>fare_amount</th>\n",
              "    </tr>\n",
              "  </thead>\n",
              "  <tbody>\n",
              "    <tr>\n",
              "      <th>count</th>\n",
              "      <td>5.541500e+04</td>\n",
              "      <td>55415.000000</td>\n",
              "      <td>55415.000000</td>\n",
              "      <td>55415.000000</td>\n",
              "      <td>55415.000000</td>\n",
              "      <td>55415.000000</td>\n",
              "      <td>55415.000000</td>\n",
              "    </tr>\n",
              "    <tr>\n",
              "      <th>mean</th>\n",
              "      <td>2.778479e+07</td>\n",
              "      <td>-72.474965</td>\n",
              "      <td>39.952255</td>\n",
              "      <td>-72.470242</td>\n",
              "      <td>39.856680</td>\n",
              "      <td>1.674691</td>\n",
              "      <td>11.316402</td>\n",
              "    </tr>\n",
              "    <tr>\n",
              "      <th>std</th>\n",
              "      <td>1.600236e+07</td>\n",
              "      <td>10.595678</td>\n",
              "      <td>13.867684</td>\n",
              "      <td>10.992233</td>\n",
              "      <td>9.800757</td>\n",
              "      <td>1.305368</td>\n",
              "      <td>9.849858</td>\n",
              "    </tr>\n",
              "    <tr>\n",
              "      <th>min</th>\n",
              "      <td>6.170000e+02</td>\n",
              "      <td>-207.952550</td>\n",
              "      <td>-74.013105</td>\n",
              "      <td>-736.383332</td>\n",
              "      <td>-1723.679763</td>\n",
              "      <td>0.000000</td>\n",
              "      <td>0.000000</td>\n",
              "    </tr>\n",
              "    <tr>\n",
              "      <th>25%</th>\n",
              "      <td>1.391698e+07</td>\n",
              "      <td>-73.992167</td>\n",
              "      <td>40.734680</td>\n",
              "      <td>-73.991426</td>\n",
              "      <td>40.733833</td>\n",
              "      <td>1.000000</td>\n",
              "      <td>6.000000</td>\n",
              "    </tr>\n",
              "    <tr>\n",
              "      <th>50%</th>\n",
              "      <td>2.781031e+07</td>\n",
              "      <td>-73.981822</td>\n",
              "      <td>40.752341</td>\n",
              "      <td>-73.980335</td>\n",
              "      <td>40.752975</td>\n",
              "      <td>1.000000</td>\n",
              "      <td>8.500000</td>\n",
              "    </tr>\n",
              "    <tr>\n",
              "      <th>75%</th>\n",
              "      <td>4.164561e+07</td>\n",
              "      <td>-73.967391</td>\n",
              "      <td>40.766836</td>\n",
              "      <td>-73.963829</td>\n",
              "      <td>40.768009</td>\n",
              "      <td>2.000000</td>\n",
              "      <td>12.500000</td>\n",
              "    </tr>\n",
              "    <tr>\n",
              "      <th>max</th>\n",
              "      <td>5.542367e+07</td>\n",
              "      <td>40.792912</td>\n",
              "      <td>2925.007435</td>\n",
              "      <td>40.799192</td>\n",
              "      <td>50.613070</td>\n",
              "      <td>6.000000</td>\n",
              "      <td>500.000000</td>\n",
              "    </tr>\n",
              "  </tbody>\n",
              "</table>\n",
              "</div>"
            ],
            "text/plain": [
              "         Unnamed: 0  pickup_longitude  pickup_latitude  dropoff_longitude  \\\n",
              "count  5.541500e+04      55415.000000     55415.000000       55415.000000   \n",
              "mean   2.778479e+07        -72.474965        39.952255         -72.470242   \n",
              "std    1.600236e+07         10.595678        13.867684          10.992233   \n",
              "min    6.170000e+02       -207.952550       -74.013105        -736.383332   \n",
              "25%    1.391698e+07        -73.992167        40.734680         -73.991426   \n",
              "50%    2.781031e+07        -73.981822        40.752341         -73.980335   \n",
              "75%    4.164561e+07        -73.967391        40.766836         -73.963829   \n",
              "max    5.542367e+07         40.792912      2925.007435          40.799192   \n",
              "\n",
              "       dropoff_latitude  passenger_count   fare_amount  \n",
              "count      55415.000000     55415.000000  55415.000000  \n",
              "mean          39.856680         1.674691     11.316402  \n",
              "std            9.800757         1.305368      9.849858  \n",
              "min        -1723.679763         0.000000      0.000000  \n",
              "25%           40.733833         1.000000      6.000000  \n",
              "50%           40.752975         1.000000      8.500000  \n",
              "75%           40.768009         2.000000     12.500000  \n",
              "max           50.613070         6.000000    500.000000  "
            ]
          },
          "execution_count": 90,
          "metadata": {},
          "output_type": "execute_result"
        }
      ],
      "source": [
        "df.describe()"
      ]
    },
    {
      "cell_type": "code",
      "execution_count": null,
      "id": "70c72c1a",
      "metadata": {
        "id": "70c72c1a",
        "outputId": "7cf3c36b-641a-4ef6-8faf-48e7c9761102"
      },
      "outputs": [
        {
          "data": {
            "text/plain": [
              "count    55415.000000\n",
              "mean        11.316402\n",
              "std          9.849858\n",
              "min          0.000000\n",
              "25%          6.000000\n",
              "50%          8.500000\n",
              "75%         12.500000\n",
              "max        500.000000\n",
              "Name: fare_amount, dtype: float64"
            ]
          },
          "execution_count": 91,
          "metadata": {},
          "output_type": "execute_result"
        }
      ],
      "source": [
        "df['fare_amount'].describe()"
      ]
    },
    {
      "cell_type": "code",
      "execution_count": null,
      "id": "dfcb4a55",
      "metadata": {
        "id": "dfcb4a55",
        "outputId": "cd285bb5-9c42-48d9-f3e0-13ed25091a52"
      },
      "outputs": [
        {
          "data": {
            "text/plain": [
              "Text(0.5, 1.0, 'Distribution of fare_amount Variable')"
            ]
          },
          "execution_count": 92,
          "metadata": {},
          "output_type": "execute_result"
        },
        {
          "data": {
            "image/png": "[encoded data removed]",
            "text/plain": [
              "<Figure size 432x288 with 1 Axes>"
            ]
          },
          "metadata": {
            "needs_background": "light"
          },
          "output_type": "display_data"
        }
      ],
      "source": [
        "import matplotlib.pyplot as plt\n",
        "\n",
        "plt.boxplot(df[\"fare_amount\"])\n",
        "plt.xlabel(\"\")\n",
        "plt.ylabel(\"Fare Amount ($)\")\n",
        "plt.title(\"Distribution of fare_amount Variable\")"
      ]
    },
    {
      "cell_type": "markdown",
      "id": "e1cddd14",
      "metadata": {
        "id": "e1cddd14"
      },
      "source": [
        "#### Observation:  From the above box plot, We can observe 1 outlier are present in data-set. As the number of outliers are less in qauntity, we can remove this to predict more accurate result. "
      ]
    },
    {
      "cell_type": "code",
      "execution_count": null,
      "id": "11b29569",
      "metadata": {
        "id": "11b29569"
      },
      "outputs": [],
      "source": [
        "#Removing the outliers\n",
        "df = df[df['fare_amount'] < 300]"
      ]
    },
    {
      "cell_type": "code",
      "execution_count": null,
      "id": "21951d0c",
      "metadata": {
        "id": "21951d0c",
        "outputId": "b638a1f7-a970-4ca1-95b0-f37f086fa5a4"
      },
      "outputs": [
        {
          "data": {
            "text/plain": [
              "55411"
            ]
          },
          "execution_count": 94,
          "metadata": {},
          "output_type": "execute_result"
        }
      ],
      "source": [
        "df2 = df[df['dropoff_latitude'] <= 90]\n",
        "df2 = df2[df2['dropoff_latitude'] >= -90]\n",
        "df2 = df2[df2['pickup_latitude'] <= 90]\n",
        "df2 = df2[df2['pickup_latitude'] >= -90]\n",
        "\n",
        "df2 = df2[df2['dropoff_longitude'] >= -180]\n",
        "df2 = df2[df2['dropoff_longitude'] <= 180]\n",
        "df2 = df2[df2['pickup_longitude'] >= -180]\n",
        "df2 = df2[df2['pickup_longitude'] <= 180]\n",
        "\n",
        "len(df2)"
      ]
    },
    {
      "cell_type": "code",
      "execution_count": null,
      "id": "102c5437",
      "metadata": {
        "id": "102c5437",
        "outputId": "b88d7b93-766b-4074-b4c4-d8667f60abf8"
      },
      "outputs": [
        {
          "data": {
            "image/png": "[encoded data removed]",
            "text/plain": [
              "<Figure size 432x288 with 4 Axes>"
            ]
          },
          "metadata": {
            "needs_background": "light"
          },
          "output_type": "display_data"
        }
      ],
      "source": [
        "# Create boxplots of Latitude/longitude\n",
        "fig, axs = plt.subplots(2, 2)\n",
        "axs[0, 0].boxplot(df2[\"dropoff_latitude\"])\n",
        "axs[0, 0].set_title('Dropoff Latitude Distribution')\n",
        "axs[1, 0].boxplot(df2[\"dropoff_longitude\"])\n",
        "axs[1, 0].set_title('Dropoff Longitude Distribution')\n",
        "axs[0, 1].boxplot(df2[\"pickup_latitude\"])\n",
        "axs[0, 1].set_title('Pickup Latitude Distribution')\n",
        "axs[1, 1].boxplot(df2[\"pickup_longitude\"])\n",
        "axs[1, 1].set_title('Pickup Longitude Distribution')\n",
        "\n",
        "#for ax in axs.flat:\n",
        "#    ax.set(xlabel='x-label', ylabel='y-label')\n",
        "\n",
        "# Hide x labels and tick labels for top plots and y ticks for right plots.\n",
        "for ax in axs.flat:\n",
        "    ax.label_outer()"
      ]
    },
    {
      "cell_type": "code",
      "execution_count": null,
      "id": "a76749c9",
      "metadata": {
        "id": "a76749c9",
        "outputId": "df7e6dee-4ab3-48a6-c74b-8b4167a15de7"
      },
      "outputs": [
        {
          "data": {
            "text/plain": [
              "54243"
            ]
          },
          "execution_count": 96,
          "metadata": {},
          "output_type": "execute_result"
        }
      ],
      "source": [
        "df3 = df[df['dropoff_latitude'] <= 50]\n",
        "df3 = df3[df3['dropoff_latitude'] >= 30]\n",
        "df3 = df3[df3['pickup_latitude'] <= 50]\n",
        "df3 = df3[df3['pickup_latitude'] >= 30]\n",
        "\n",
        "df3 = df3[df3['dropoff_longitude'] >= -85]\n",
        "df3 = df3[df3['dropoff_longitude'] <= -65]\n",
        "df3 = df3[df3['pickup_longitude'] >= -85]\n",
        "df3 = df3[df3['pickup_longitude'] <= -65]\n",
        "\n",
        "df2 = df3\n",
        "df = df2\n",
        "len(df3)"
      ]
    },
    {
      "cell_type": "code",
      "execution_count": null,
      "id": "0edd6d45",
      "metadata": {
        "id": "0edd6d45",
        "outputId": "f87e2e20-b046-491d-ae96-b464c552a308"
      },
      "outputs": [
        {
          "data": {
            "image/png": "[encoded data removed]",
            "text/plain": [
              "<Figure size 432x288 with 4 Axes>"
            ]
          },
          "metadata": {
            "needs_background": "light"
          },
          "output_type": "display_data"
        }
      ],
      "source": [
        "# Create boxplots of Latitude/longitude\n",
        "fig, axs = plt.subplots(2, 2)\n",
        "axs[0, 0].boxplot(df2[\"dropoff_latitude\"])\n",
        "axs[0, 0].set_title('Dropoff Latitude Distribution')\n",
        "axs[1, 0].boxplot(df2[\"dropoff_longitude\"])\n",
        "axs[1, 0].set_title('Dropoff Longitude Distribution')\n",
        "axs[0, 1].boxplot(df2[\"pickup_latitude\"])\n",
        "axs[0, 1].set_title('Pickup Latitude Distribution')\n",
        "axs[1, 1].boxplot(df2[\"pickup_longitude\"])\n",
        "axs[1, 1].set_title('Pickup Longitude Distribution')\n",
        "\n",
        "#for ax in axs.flat:\n",
        "#    ax.set(xlabel='x-label', ylabel='y-label')\n",
        "\n",
        "# Hide x labels and tick labels for top plots and y ticks for right plots.\n",
        "for ax in axs.flat:\n",
        "    ax.label_outer()"
      ]
    },
    {
      "cell_type": "code",
      "execution_count": null,
      "id": "f2c8874b",
      "metadata": {
        "id": "f2c8874b",
        "outputId": "580d2d05-fcc4-42d6-b3ea-daf2530631f8"
      },
      "outputs": [
        {
          "data": {
            "text/plain": [
              "count    54243.000000\n",
              "mean         1.676050\n",
              "std          1.306991\n",
              "min          0.000000\n",
              "25%          1.000000\n",
              "50%          1.000000\n",
              "75%          2.000000\n",
              "max          6.000000\n",
              "Name: passenger_count, dtype: float64"
            ]
          },
          "execution_count": 98,
          "metadata": {},
          "output_type": "execute_result"
        }
      ],
      "source": [
        "df['passenger_count'].describe()"
      ]
    },
    {
      "cell_type": "markdown",
      "id": "14b7b7e8",
      "metadata": {
        "id": "14b7b7e8"
      },
      "source": [
        "#### Observation: The maximum number of passenger count is 208, which is not possible in real world. There are maximum 6 numbers of passengers can sit in one taxi. "
      ]
    },
    {
      "cell_type": "code",
      "execution_count": null,
      "id": "fa581c0b",
      "metadata": {
        "id": "fa581c0b"
      },
      "outputs": [],
      "source": [
        "#Removing the outliers\n",
        "df = df[df[\"passenger_count\"] < 7]"
      ]
    },
    {
      "cell_type": "code",
      "execution_count": null,
      "id": "d007cc04",
      "metadata": {
        "id": "d007cc04",
        "scrolled": true
      },
      "outputs": [],
      "source": [
        "import numpy as np\n",
        "\n",
        "#radius of earth in kilometers\n",
        "R = 6373.0\n",
        "\n",
        "pickup_lat  = np.radians(df[\"pickup_latitude\"])\n",
        "pickup_lon  = np.radians(df[\"pickup_longitude\"])\n",
        "dropoff_lat = np.radians(df[\"dropoff_latitude\"])\n",
        "dropoff_lon = np.radians(df[\"dropoff_longitude\"])\n",
        "\n",
        "dist_lon = dropoff_lon - pickup_lon\n",
        "dist_lat = dropoff_lat - pickup_lat\n",
        "\n",
        "#Formula\n",
        "a = (np.sin(dist_lat/2))**2 + np.cos(pickup_lat) * np.cos(dropoff_lat) * (np.sin(dist_lon/2))**2 \n",
        "c = 2 * np.arctan2( np.sqrt(a), np.sqrt(1-a) ) \n",
        "d = R * c #(where R is the radius of the Earth)\n",
        "\n",
        "df[\"distance_mi\"] = d/0.621371"
      ]
    },
    {
      "cell_type": "code",
      "execution_count": null,
      "id": "149ca925",
      "metadata": {
        "id": "149ca925",
        "outputId": "b17ea76a-3850-40a6-b03b-5ee21bb73c2b"
      },
      "outputs": [
        {
          "data": {
            "text/plain": [
              "Text(0.5, 1.0, 'Distribution of Distance (miles)')"
            ]
          },
          "execution_count": 101,
          "metadata": {},
          "output_type": "execute_result"
        },
        {
          "data": {
            "image/png": "[encoded data removed]",
            "text/plain": [
              "<Figure size 432x288 with 1 Axes>"
            ]
          },
          "metadata": {
            "needs_background": "light"
          },
          "output_type": "display_data"
        }
      ],
      "source": [
        "#plt.scatter(df['distance_km'], df['fare_amount'])\n",
        "plt.xlabel(\"\")\n",
        "plt.ylabel(\"Fare Amount ($)\")\n",
        "\n",
        "plt.boxplot(df[\"distance_mi\"])\n",
        "plt.title(\"Distribution of Distance (miles)\")"
      ]
    },
    {
      "cell_type": "code",
      "execution_count": null,
      "id": "ce3053b3",
      "metadata": {
        "id": "ce3053b3",
        "outputId": "61c2430d-a072-4614-bef5-c36b5501587c"
      },
      "outputs": [
        {
          "data": {
            "text/plain": [
              "(54243, 9)"
            ]
          },
          "execution_count": 102,
          "metadata": {},
          "output_type": "execute_result"
        }
      ],
      "source": [
        "df.shape"
      ]
    },
    {
      "cell_type": "code",
      "execution_count": null,
      "id": "20ed35ce",
      "metadata": {
        "id": "20ed35ce"
      },
      "outputs": [],
      "source": [
        "df.to_csv('C:/Users/palak/Downloads/taxi_data_clean.csv')"
      ]
    },
    {
      "cell_type": "code",
      "execution_count": null,
      "id": "8b0ca910",
      "metadata": {
        "id": "8b0ca910"
      },
      "outputs": [],
      "source": [
        "df_clean = pd.read_csv('C:/Users/palak/Downloads/taxi_data_clean.csv')"
      ]
    },
    {
      "cell_type": "markdown",
      "id": "d2f05fa6",
      "metadata": {
        "id": "d2f05fa6"
      },
      "source": [
        "### Data Visualization "
      ]
    },
    {
      "cell_type": "code",
      "execution_count": null,
      "id": "de44934f",
      "metadata": {
        "id": "de44934f"
      },
      "outputs": [],
      "source": [
        "#import geopandas\n",
        "#import geoplot\n",
        "import pandas as pd\n",
        "from shapely.geometry import Point, Polygon\n",
        "import matplotlib.pyplot as plt"
      ]
    },
    {
      "cell_type": "markdown",
      "id": "94b3064a",
      "metadata": {
        "id": "94b3064a"
      },
      "source": [
        "data = [[-74.25, 40.5],[-74.05,40.6]]\n",
        "staten_island = pd.DataFrame(data = data, columns = ['Lat', \"Long\"])\n",
        "print(staten_island)"
      ]
    },
    {
      "cell_type": "code",
      "execution_count": null,
      "id": "698cc7be",
      "metadata": {
        "id": "698cc7be",
        "outputId": "98dc14b6-e48c-41da-879e-ff951086bb64",
        "scrolled": true
      },
      "outputs": [
        {
          "ename": "NameError",
          "evalue": "name 'geopandas' is not defined",
          "output_type": "error",
          "traceback": [
            "\u001b[1;31m---------------------------------------------------------------------------\u001b[0m",
            "\u001b[1;31mNameError\u001b[0m                                 Traceback (most recent call last)",
            "\u001b[1;32m<ipython-input-107-2883c4507d1f>\u001b[0m in \u001b[0;36m<module>\u001b[1;34m\u001b[0m\n\u001b[1;32m----> 1\u001b[1;33m \u001b[0mboroughs\u001b[0m \u001b[1;33m=\u001b[0m \u001b[0mgeopandas\u001b[0m\u001b[1;33m.\u001b[0m\u001b[0mread_file\u001b[0m\u001b[1;33m(\u001b[0m\u001b[0mgeoplot\u001b[0m\u001b[1;33m.\u001b[0m\u001b[0mdatasets\u001b[0m\u001b[1;33m.\u001b[0m\u001b[0mget_path\u001b[0m\u001b[1;33m(\u001b[0m\u001b[1;34m'nyc_boroughs'\u001b[0m\u001b[1;33m)\u001b[0m\u001b[1;33m)\u001b[0m\u001b[1;33m\u001b[0m\u001b[1;33m\u001b[0m\u001b[0m\n\u001b[0m\u001b[0;32m      2\u001b[0m \u001b[1;33m\u001b[0m\u001b[0m\n\u001b[0;32m      3\u001b[0m \u001b[0mfig\u001b[0m\u001b[1;33m,\u001b[0m\u001b[0max\u001b[0m\u001b[1;33m=\u001b[0m\u001b[0mplt\u001b[0m\u001b[1;33m.\u001b[0m\u001b[0msubplots\u001b[0m\u001b[1;33m(\u001b[0m\u001b[0mfigsize\u001b[0m\u001b[1;33m=\u001b[0m\u001b[1;33m(\u001b[0m\u001b[1;36m10\u001b[0m\u001b[1;33m,\u001b[0m\u001b[1;36m10\u001b[0m\u001b[1;33m)\u001b[0m\u001b[1;33m)\u001b[0m\u001b[1;33m\u001b[0m\u001b[1;33m\u001b[0m\u001b[0m\n\u001b[0;32m      4\u001b[0m \u001b[0mboroughs\u001b[0m\u001b[1;33m.\u001b[0m\u001b[0mplot\u001b[0m\u001b[1;33m(\u001b[0m\u001b[0max\u001b[0m\u001b[1;33m=\u001b[0m\u001b[0max\u001b[0m\u001b[1;33m)\u001b[0m\u001b[1;31m#,alpha=0.4,color=\"grey\")\u001b[0m\u001b[1;33m\u001b[0m\u001b[1;33m\u001b[0m\u001b[0m\n\u001b[0;32m      5\u001b[0m \u001b[0mplt\u001b[0m\u001b[1;33m.\u001b[0m\u001b[0mlegend\u001b[0m\u001b[1;33m(\u001b[0m\u001b[1;33m)\u001b[0m\u001b[1;33m\u001b[0m\u001b[1;33m\u001b[0m\u001b[0m\n",
            "\u001b[1;31mNameError\u001b[0m: name 'geopandas' is not defined"
          ]
        }
      ],
      "source": [
        "\n",
        "\n",
        "boroughs = geopandas.read_file(geoplot.datasets.get_path('nyc_boroughs'))\n",
        "\n",
        "fig,ax=plt.subplots(figsize=(10,10))\n",
        "boroughs.plot(ax=ax)#,alpha=0.4,color=\"grey\")\n",
        "plt.legend()\n",
        "plt.grid(which='major')\n",
        "plt.grid(which='minor')\n",
        "\n",
        "plt.plot(staten_df['Long'],staten_df['Lat'], 'r' )\n",
        "plt.plot(brooklyn_df['Long'],brooklyn_df['Lat'], 'k' )\n",
        "plt.plot(manhatten_df['Long'],manhatten_df['Lat'], 'b' )\n",
        "plt.plot(bronx_df['Long'],bronx_df['Lat'], 'c' )\n",
        "plt.plot(queens_df['Long'],queens_df['Lat'], 'g' )\n",
        "\n"
      ]
    },
    {
      "cell_type": "code",
      "execution_count": null,
      "id": "452fd80b",
      "metadata": {
        "id": "452fd80b",
        "outputId": "3b555ec8-d2d5-4d0a-c948-18e4f084902c"
      },
      "outputs": [
        {
          "data": {
            "text/plain": [
              "Text(0.5, 1.0, 'Histogram of Fare Amount')"
            ]
          },
          "execution_count": 115,
          "metadata": {},
          "output_type": "execute_result"
        },
        {
          "data": {
            "image/png": "[encoded data removed]",
            "text/plain": [
              "<Figure size 432x288 with 1 Axes>"
            ]
          },
          "metadata": {
            "needs_background": "light"
          },
          "output_type": "display_data"
        }
      ],
      "source": [
        "n = plt.hist(df_clean['fare_amount'], 20)\n",
        "plt.xlabel(\"Fare_Amount\")\n",
        "plt.ylabel(\"Frequency\")\n",
        "plt.title(\"Histogram of Fare Amount\")"
      ]
    },
    {
      "cell_type": "code",
      "execution_count": null,
      "id": "8108c01f",
      "metadata": {
        "scrolled": true,
        "id": "8108c01f",
        "outputId": "067f3908-2633-4e62-c719-6aa6b066796a"
      },
      "outputs": [
        {
          "data": {
            "text/plain": [
              "Text(0.5, 1.0, 'Histogram of passenger count')"
            ]
          },
          "execution_count": 110,
          "metadata": {},
          "output_type": "execute_result"
        },
        {
          "data": {
            "image/png": "[encoded data removed]",
            "text/plain": [
              "<Figure size 432x288 with 1 Axes>"
            ]
          },
          "metadata": {
            "needs_background": "light"
          },
          "output_type": "display_data"
        }
      ],
      "source": [
        "n = plt.hist(df_clean['passenger_count'], 10)\n",
        "plt.xlabel(\"passenger count\")\n",
        "plt.ylabel(\"Frequency\")\n",
        "plt.title(\"Histogram of passenger count\")"
      ]
    },
    {
      "cell_type": "code",
      "execution_count": null,
      "id": "d7a19d37",
      "metadata": {
        "id": "d7a19d37",
        "outputId": "bd75df3f-16b8-4ea0-f725-b65060495665"
      },
      "outputs": [
        {
          "data": {
            "text/plain": [
              "Text(0.5, 1.0, 'Scatter plot of Fare Amount vs passenger_count')"
            ]
          },
          "execution_count": 111,
          "metadata": {},
          "output_type": "execute_result"
        },
        {
          "data": {
            "image/png": "[encoded data removed]",
            "text/plain": [
              "<Figure size 432x288 with 1 Axes>"
            ]
          },
          "metadata": {
            "needs_background": "light"
          },
          "output_type": "display_data"
        }
      ],
      "source": [
        "df_clean.plot.scatter(x = 'passenger_count', y = 'fare_amount')\n",
        "plt.title(\"Scatter plot of Fare Amount vs passenger_count\")"
      ]
    },
    {
      "cell_type": "code",
      "execution_count": null,
      "id": "0b64203c",
      "metadata": {
        "scrolled": true,
        "id": "0b64203c",
        "outputId": "b0f68b40-3c19-4bf6-905e-484b2a90cac6"
      },
      "outputs": [
        {
          "data": {
            "text/plain": [
              "Text(0.5, 1.0, 'Scatter plot of Fare Amount vs Distance')"
            ]
          },
          "execution_count": 112,
          "metadata": {},
          "output_type": "execute_result"
        },
        {
          "data": {
            "image/png": "[encoded data removed]",
            "text/plain": [
              "<Figure size 432x288 with 1 Axes>"
            ]
          },
          "metadata": {
            "needs_background": "light"
          },
          "output_type": "display_data"
        }
      ],
      "source": [
        "df_clean.plot.scatter(x = 'distance_mi', y = 'fare_amount')\n",
        "plt.title(\"Scatter plot of Fare Amount vs Distance\")"
      ]
    },
    {
      "cell_type": "code",
      "execution_count": null,
      "id": "341a28db",
      "metadata": {
        "id": "341a28db"
      },
      "outputs": [],
      "source": [
        "from shapely.geometry import Point\n",
        "from shapely.geometry.polygon import Polygon"
      ]
    },
    {
      "cell_type": "code",
      "execution_count": null,
      "id": "7097d3f9",
      "metadata": {
        "id": "7097d3f9"
      },
      "outputs": [],
      "source": [
        "queens_points = [(-73.876,40.577),(-73.859,40.65), (-73.96,40.743),(-73.936,40.778),(-73.9,40.8), (-73.76, 40.805),\n",
        "                 (-73.69,40.75),(-73.71,40.59),(-73.95,40.54),(-73.95,40.567),(-73.876,40.577)]\n",
        "queens_df = pd.DataFrame(data = queens_points, columns = ['Long', \"Lat\"])\n",
        "queens_poly = Polygon(queens_points)"
      ]
    },
    {
      "cell_type": "code",
      "execution_count": null,
      "id": "a0ed6ab2",
      "metadata": {
        "id": "a0ed6ab2"
      },
      "outputs": [],
      "source": [
        "bronx_points = [(-73.93,40.88),(-73.907,40.871),(-73.935,40.833),(-73.928, 40.8),(-73.936,40.778),(-73.9,40.8),\n",
        "                (-73.76, 40.805),(-73.76, 40.91),(-73.913, 40.918),(-73.93,40.88)]\n",
        "bronx_df = pd.DataFrame(data = bronx_points, columns = ['Long', \"Lat\"])\n",
        "bronx_poly = Polygon(bronx_points)"
      ]
    },
    {
      "cell_type": "code",
      "execution_count": null,
      "id": "a0ee5347",
      "metadata": {
        "id": "a0ee5347"
      },
      "outputs": [],
      "source": [
        "manhatten_points = [(-73.96,40.743),(-73.975,40.707),(-74.0,40.705),(-74.053,40.672),(-74.017,40.755),(-73.93,40.88),\n",
        "                   (-73.907,40.871),(-73.935,40.833),(-73.928, 40.8),(-73.936,40.778),(-73.96,40.743)]\n",
        "manhatten_df = pd.DataFrame(data = manhatten_points, columns = ['Long', \"Lat\"])\n",
        "manhatten_poly = Polygon(manhatten_points)"
      ]
    },
    {
      "cell_type": "code",
      "execution_count": null,
      "id": "4c9900bc",
      "metadata": {
        "id": "4c9900bc"
      },
      "outputs": [],
      "source": [
        "brooklyn_points = [(-74.04,40.56),(-73.876,40.577),(-73.859,40.65),(-73.96,40.743),(-73.975,40.707),(-74.0,40.705),\n",
        "                  (-74.053,40.672),(-74.04,40.56)]\n",
        "brooklyn_df = pd.DataFrame(data = brooklyn_points, columns = ['Long', \"Lat\"])\n",
        "brooklyn_poly = Polygon(brooklyn_points)\n"
      ]
    },
    {
      "cell_type": "code",
      "execution_count": null,
      "id": "3ee21294",
      "metadata": {
        "id": "3ee21294"
      },
      "outputs": [],
      "source": [
        "staten_points = [(-74.27, 40.49),(-74.15,40.52),(-74.05,40.6),(-74.07,40.65),(-74.2,40.642),(-74.25,40.55),\n",
        "                 (-74.27, 40.49)]\n",
        "staten_df = pd.DataFrame(data = staten_points, columns = ['Long', \"Lat\"])\n",
        "staten_poly = Polygon(staten_points)\n",
        "\n",
        "test = Point(-74.2, 40.55)\n",
        "print(staten_poly.contains(test))"
      ]
    },
    {
      "cell_type": "code",
      "execution_count": null,
      "id": "cbf42b94",
      "metadata": {
        "id": "cbf42b94",
        "outputId": "f84ff343-0010-413b-fb3a-f40b96f6b727"
      },
      "outputs": [
        {
          "data": {
            "text/html": [
              "<div>\n",
              "<style scoped>\n",
              "    .dataframe tbody tr th:only-of-type {\n",
              "        vertical-align: middle;\n",
              "    }\n",
              "\n",
              "    .dataframe tbody tr th {\n",
              "        vertical-align: top;\n",
              "    }\n",
              "\n",
              "    .dataframe thead th {\n",
              "        text-align: right;\n",
              "    }\n",
              "</style>\n",
              "<table border=\"1\" class=\"dataframe\">\n",
              "  <thead>\n",
              "    <tr style=\"text-align: right;\">\n",
              "      <th></th>\n",
              "      <th>Unnamed: 0.1</th>\n",
              "      <th>Unnamed: 0</th>\n",
              "      <th>pickup_datetime</th>\n",
              "      <th>pickup_longitude</th>\n",
              "      <th>pickup_latitude</th>\n",
              "      <th>dropoff_longitude</th>\n",
              "      <th>dropoff_latitude</th>\n",
              "      <th>passenger_count</th>\n",
              "      <th>fare_amount</th>\n",
              "      <th>distance_mi</th>\n",
              "    </tr>\n",
              "  </thead>\n",
              "  <tbody>\n",
              "    <tr>\n",
              "      <th>0</th>\n",
              "      <td>0</td>\n",
              "      <td>53393071</td>\n",
              "      <td>2011-10-05 10:43:36</td>\n",
              "      <td>-73.992800</td>\n",
              "      <td>40.742900</td>\n",
              "      <td>-73.996900</td>\n",
              "      <td>40.747500</td>\n",
              "      <td>1</td>\n",
              "      <td>4.5</td>\n",
              "      <td>0.993590</td>\n",
              "    </tr>\n",
              "    <tr>\n",
              "      <th>1</th>\n",
              "      <td>1</td>\n",
              "      <td>33151006</td>\n",
              "      <td>2012-09-12 11:45:29</td>\n",
              "      <td>-73.972014</td>\n",
              "      <td>40.763332</td>\n",
              "      <td>-73.962586</td>\n",
              "      <td>40.775515</td>\n",
              "      <td>1</td>\n",
              "      <td>8.5</td>\n",
              "      <td>2.527796</td>\n",
              "    </tr>\n",
              "    <tr>\n",
              "      <th>2</th>\n",
              "      <td>2</td>\n",
              "      <td>37902622</td>\n",
              "      <td>2011-07-26 09:11:00</td>\n",
              "      <td>-73.981793</td>\n",
              "      <td>40.743592</td>\n",
              "      <td>-73.983923</td>\n",
              "      <td>40.753703</td>\n",
              "      <td>1</td>\n",
              "      <td>8.1</td>\n",
              "      <td>1.832846</td>\n",
              "    </tr>\n",
              "    <tr>\n",
              "      <th>3</th>\n",
              "      <td>3</td>\n",
              "      <td>47251205</td>\n",
              "      <td>2012-05-08 10:37:44</td>\n",
              "      <td>-73.972777</td>\n",
              "      <td>40.756115</td>\n",
              "      <td>-73.873318</td>\n",
              "      <td>40.774241</td>\n",
              "      <td>2</td>\n",
              "      <td>26.1</td>\n",
              "      <td>13.869388</td>\n",
              "    </tr>\n",
              "    <tr>\n",
              "      <th>4</th>\n",
              "      <td>4</td>\n",
              "      <td>1642249</td>\n",
              "      <td>2015-02-14 19:23:20</td>\n",
              "      <td>-73.968391</td>\n",
              "      <td>40.770561</td>\n",
              "      <td>-73.974434</td>\n",
              "      <td>40.762493</td>\n",
              "      <td>1</td>\n",
              "      <td>5.0</td>\n",
              "      <td>1.660408</td>\n",
              "    </tr>\n",
              "  </tbody>\n",
              "</table>\n",
              "</div>"
            ],
            "text/plain": [
              "   Unnamed: 0.1  Unnamed: 0      pickup_datetime  pickup_longitude  \\\n",
              "0             0    53393071  2011-10-05 10:43:36        -73.992800   \n",
              "1             1    33151006  2012-09-12 11:45:29        -73.972014   \n",
              "2             2    37902622  2011-07-26 09:11:00        -73.981793   \n",
              "3             3    47251205  2012-05-08 10:37:44        -73.972777   \n",
              "4             4     1642249  2015-02-14 19:23:20        -73.968391   \n",
              "\n",
              "   pickup_latitude  dropoff_longitude  dropoff_latitude  passenger_count  \\\n",
              "0        40.742900         -73.996900         40.747500                1   \n",
              "1        40.763332         -73.962586         40.775515                1   \n",
              "2        40.743592         -73.983923         40.753703                1   \n",
              "3        40.756115         -73.873318         40.774241                2   \n",
              "4        40.770561         -73.974434         40.762493                1   \n",
              "\n",
              "   fare_amount  distance_mi  \n",
              "0          4.5     0.993590  \n",
              "1          8.5     2.527796  \n",
              "2          8.1     1.832846  \n",
              "3         26.1    13.869388  \n",
              "4          5.0     1.660408  "
            ]
          },
          "execution_count": 248,
          "metadata": {},
          "output_type": "execute_result"
        }
      ],
      "source": [
        "df_clean.head()"
      ]
    },
    {
      "cell_type": "code",
      "execution_count": null,
      "id": "6742db87",
      "metadata": {
        "id": "6742db87"
      },
      "outputs": [],
      "source": [
        ""
      ]
    },
    {
      "cell_type": "code",
      "execution_count": null,
      "id": "8bd9afec",
      "metadata": {
        "id": "8bd9afec",
        "outputId": "5ba04574-fc2b-4942-9ec6-319175545284"
      },
      "outputs": [
        {
          "name": "stdout",
          "output_type": "stream",
          "text": [
            "POINT (-73.972014 40.763332)\n"
          ]
        },
        {
          "data": {
            "text/plain": [
              "True"
            ]
          },
          "execution_count": 268,
          "metadata": {},
          "output_type": "execute_result"
        }
      ],
      "source": [
        "test = Point(df_clean['pickup_longitude'][1], df_clean['pickup_latitude'][1])\n",
        "print(test)\n",
        "manhatten_poly.contains(test)"
      ]
    },
    {
      "cell_type": "code",
      "execution_count": null,
      "id": "e4575c77",
      "metadata": {
        "id": "e4575c77"
      },
      "outputs": [],
      "source": [
        "def find_borough(long, lat):\n",
        "    point = Point(long, lat)\n",
        "    if staten_poly.contains(point):\n",
        "        borough = \"staten\"\n",
        "        staten = 1\n",
        "        brooklyn = 0 \n",
        "        bronx = 0\n",
        "        manhatten = 0\n",
        "        queens = 0\n",
        "        \n",
        "    elif brooklyn_poly.contains(point):\n",
        "        borough = \"brooklyn\"\n",
        "        staten = 0\n",
        "        brooklyn = 1\n",
        "        bronx = 0\n",
        "        manhatten = 0\n",
        "        queens = 0\n",
        "        \n",
        "    elif bronx_poly.contains(point):\n",
        "        borough = \"bronx\"\n",
        "        staten = 0\n",
        "        brooklyn = 0 \n",
        "        bronx = 1\n",
        "        manhatten = 0\n",
        "        queens = 0\n",
        "        \n",
        "    elif manhatten_poly.contains(point):\n",
        "        borough = \"manhatten\"\n",
        "        staten = 0\n",
        "        brooklyn = 0 \n",
        "        bronx = 0\n",
        "        manhatten = 1\n",
        "        queens = 0\n",
        "        \n",
        "    elif queens_poly.contains(point):\n",
        "        borough = \"queens\"\n",
        "        staten = 0\n",
        "        brooklyn = 0 \n",
        "        bronx = 0\n",
        "        manhatten = 0\n",
        "        queens = 1\n",
        "        \n",
        "    else:\n",
        "        borough = \"none\"\n",
        "        staten = 0\n",
        "        brooklyn = 0 \n",
        "        bronx = 0\n",
        "        manhatten = 0\n",
        "        queens = 0\n",
        "    \n",
        "    borough_binary = [staten, brooklyn, bronx, manhatten, queens]\n",
        "        \n",
        "    return borough, borough_binary"
      ]
    },
    {
      "cell_type": "code",
      "execution_count": null,
      "id": "60d0f29e",
      "metadata": {
        "id": "60d0f29e",
        "outputId": "3e9d2f5e-57a9-42dc-de39-b4651a6ca577"
      },
      "outputs": [
        {
          "name": "stderr",
          "output_type": "stream",
          "text": [
            "/var/folders/gx/7vzsnzkx02s_7fpll88vtyt00000gn/T/ipykernel_16702/99124511.py:4: SettingWithCopyWarning: \n",
            "A value is trying to be set on a copy of a slice from a DataFrame\n",
            "\n",
            "See the caveats in the documentation: https://pandas.pydata.org/pandas-docs/stable/user_guide/indexing.html#returning-a-view-versus-a-copy\n",
            "  location[\"dropoff_loc\"][i] = find_borough(df_clean['dropoff_longitude'][i], df_clean['dropoff_latitude'][i])\n"
          ]
        }
      ],
      "source": [
        "location = pd.DataFrame(0, index=np.arange(len(df_clean)),columns = [\"pickup_loc\", \"dropoff_loc\"])\n",
        "for i in range(len(df_clean)):\n",
        "    location[\"pickup_loc\"][i], dump = find_borough(df_clean['pickup_longitude'][i], df_clean['pickup_latitude'][i])\n",
        "    location[\"dropoff_loc\"][i], dump = find_borough(df_clean['dropoff_longitude'][i], df_clean['dropoff_latitude'][i])"
      ]
    },
    {
      "cell_type": "code",
      "execution_count": null,
      "id": "8945edca",
      "metadata": {
        "id": "8945edca",
        "outputId": "68e22463-e49b-4d3b-8a5f-83016cd7b198"
      },
      "outputs": [
        {
          "name": "stdout",
          "output_type": "stream",
          "text": [
            "manhatten    48231\n",
            "queens        2753\n",
            "brooklyn      2712\n",
            "bronx          292\n",
            "none           238\n",
            "staten          17\n",
            "Name: dropoff_loc, dtype: int64\n"
          ]
        }
      ],
      "source": [
        "pickup_dist = location[\"pickup_loc\"].value_counts()\n",
        "dropoff_dist = location[\"dropoff_loc\"].value_counts()\n",
        "print(dropoff_dist)\n",
        "#plt.bar(location[\"pickup_loc\"])"
      ]
    },
    {
      "cell_type": "code",
      "execution_count": null,
      "id": "efaba82f",
      "metadata": {
        "id": "efaba82f",
        "outputId": "78b14fb0-d61d-4698-ab1e-7bd01f6301a2"
      },
      "outputs": [
        {
          "name": "stdout",
          "output_type": "stream",
          "text": [
            "[0, 0, 0, 1, 0]\n"
          ]
        }
      ],
      "source": [
        "dump, keep = find_borough(df_clean['pickup_longitude'][1], df_clean['pickup_latitude'][1])\n",
        "print(keep)"
      ]
    },
    {
      "cell_type": "code",
      "execution_count": null,
      "id": "ab92f427",
      "metadata": {
        "id": "ab92f427"
      },
      "outputs": [],
      "source": [
        "columns = [\"pickup_staten\", \"pickup_brooklyn\", \"pickup_bronx\", \"pickup_manhatten\", \"pickup_queens\",\n",
        "           \"dropoff_staten\", \"dropoff_brooklyn\", \"dropoff_bronx\", \"dropoff_manhatten\", \"dropoff_queens\"]\n",
        "location_binary = pd.DataFrame(0, index=np.arange(len(df_clean)),columns = columns)\n",
        "for i in range(len(df_clean)):\n",
        "    dump, location_binary.iloc[[i], [0,1,2,3,4]] = find_borough(df_clean['pickup_longitude'][i], df_clean['pickup_latitude'][i])\n",
        "    dump, location_binary.iloc[[i], [5,6,7,8,9]] = find_borough(df_clean['pickup_longitude'][i], df_clean['pickup_latitude'][i])"
      ]
    },
    {
      "cell_type": "code",
      "execution_count": null,
      "id": "5d29c3a2",
      "metadata": {
        "id": "5d29c3a2",
        "outputId": "eb0e036c-43fc-48ef-ceec-062d8faf56bd"
      },
      "outputs": [
        {
          "data": {
            "text/plain": [
              "54243"
            ]
          },
          "execution_count": 335,
          "metadata": {},
          "output_type": "execute_result"
        }
      ],
      "source": [
        "len(location_binary)"
      ]
    },
    {
      "cell_type": "code",
      "execution_count": null,
      "id": "15fda820",
      "metadata": {
        "id": "15fda820"
      },
      "outputs": [],
      "source": [
        "df_final1 = df_clean.join(location_binary)\n",
        "df_final2 = df_final1[df_final1[columns].sum(axis=1) > 0]\n"
      ]
    },
    {
      "cell_type": "code",
      "execution_count": null,
      "id": "a9fb45c3",
      "metadata": {
        "id": "a9fb45c3"
      },
      "outputs": [],
      "source": [
        "df_final2.head()\n",
        "df_final = df_final2.drop(['Unnamed: 0.1','Unnamed: 0','pickup_longitude','pickup_latitude', \n",
        "               'dropoff_longitude', 'dropoff_latitude','pickup_staten','dropoff_staten'], axis = 1)\n",
        "              "
      ]
    },
    {
      "cell_type": "code",
      "execution_count": null,
      "id": "d8b28de1",
      "metadata": {
        "id": "d8b28de1"
      },
      "outputs": [],
      "source": [
        "df_final.to_csv('/Users/Jenna/Documents/grad school/IE 7275/project/taxi_data_final.csv')"
      ]
    },
    {
      "cell_type": "code",
      "execution_count": null,
      "id": "bbb0169d",
      "metadata": {
        "id": "bbb0169d"
      },
      "outputs": [],
      "source": [
        ""
      ]
    }
  ],
  "metadata": {
    "colab": {
      "collapsed_sections": [],
      "name": "Data Processing.ipynb",
      "provenance": []
    },
    "kernelspec": {
      "display_name": "Python 3",
      "language": "python",
      "name": "python3"
    },
    "language_info": {
      "codemirror_mode": {
        "name": "ipython",
        "version": 3
      },
      "file_extension": ".py",
      "mimetype": "text/x-python",
      "name": "python",
      "nbconvert_exporter": "python",
      "pygments_lexer": "ipython3",
      "version": "3.8.8"
    }
  },
  "nbformat": 4,
  "nbformat_minor": 5
}